{
 "cells": [
  {
   "cell_type": "markdown",
   "metadata": {},
   "source": [
    "# Starter ML Notebook (Market Baseline)\n",
    "\n",
    "This notebook walks through loading the curated market dataset (features + labels),\n",
    "training a simple baseline model, and computing a basic PnL metric.\n",
    "\n",
    "Prereqs:\n",
    "- Generate a dataset first (from the repo root):\n",
    "\n",
    "```bash\n",
    "python scripts/build_market_dataset.py \\\n",
    "  --exchange binance \\\n",
    "  --symbol BTC/USDT \\\n",
    "  --timeframe 1m \\\n",
    "  --out datasets/market_btcusdt_1m.parquet\n",
    "```\n",
    "\n",
    "If you haven't installed common ML libs locally, uncomment the next cell to install them."
   ]
  },
  {
   "cell_type": "code",
   "execution_count": null,
   "metadata": {},
   "outputs": [],
   "source": [
    "# Uncomment if you need these locally\n",
    "# %pip install -q scikit-learn matplotlib seaborn\n",
    "import pandas as pd\n",
    "import numpy as np\n",
    "from pathlib import Path\n",
    "from sklearn.model_selection import train_test_split\n",
    "from sklearn.linear_model import LogisticRegression\n",
    "from sklearn.metrics import classification_report, roc_auc_score\n",
    "import matplotlib.pyplot as plt\n",
    "import seaborn as sns\n",
    "\n",
    "pd.set_option('display.max_columns', 200)\n",
    "DATASET = Path('datasets/market_btcusdt_1m.parquet')\n",
    "assert DATASET.exists(), f'Expected dataset at {DATASET}. Run the build script first.'\n",
    "df = pd.read_parquet(DATASET)\n",
    "df.head()"
   ]
  },
  {
   "cell_type": "code",
   "execution_count": null,
   "metadata": {},
   "outputs": [],
   "source": [
    "# Prepare train/test split by time (no leakage)\n",
    "df = df.sort_values('timestamp').reset_index(drop=True)\n",
    "feature_cols = [c for c in df.columns if c not in ('timestamp','dt','symbol','exchange','timeframe','feature_version','ret_next','y_dir','close')]\n",
    "X = df[feature_cols].fillna(0.0).values\n",
    "y = df['y_dir'].values\n",
    "split_idx = int(0.8 * len(df))\n",
    "X_train, X_test = X[:split_idx], X[split_idx:]\n",
    "y_train, y_test = y[:split_idx], y[split_idx:]\n",
    "\n",
    "clf = LogisticRegression(max_iter=200)\n",
    "clf.fit(X_train, y_train)\n",
    "proba = clf.predict_proba(X_test)[:,1]\n",
    "pred = (proba >= 0.5).astype(int)\n",
    "print('AUC:', roc_auc_score(y_test, proba))\n",
    "print(classification_report(y_test, pred, digits=4))"
   ]
  },
  {
   "cell_type": "code",
   "execution_count": null,
   "metadata": {},
   "outputs": [],
   "source": [
    "# Simple PnL backtest (illustrative only)\n",
    "test = df.iloc[split_idx:].copy()\n",
    "test['proba'] = proba\n",
    "# Threshold to create positions [-1,0,1] around 0.5\n",
    "thr = 0.55\n",
    "test['pos'] = 0\n",
    "test.loc[test['proba']>=thr, 'pos'] = 1\n",
    "test.loc[test['proba']<=1-thr, 'pos'] = -1\n",
    "# Apply next-bar return as PnL with simple cost\n",
    "cost_bps = 5e-4  # 5 bps per trade change\n",
    "test['pos_shift'] = test['pos'].shift(1).fillna(0)\n",
    "test['turnover'] = (test['pos'] - test['pos_shift']).abs()\n",
    "test['pnl'] = test['pos_shift'] * test['ret_next'] - cost_bps * test['turnover']\n",
    "test['equity'] = (1 + test['pnl']).cumprod()\n",
    "\n",
    "fig, ax = plt.subplots(figsize=(10,4))\n",
    "ax.plot(test['equity'].values)\n",
    "ax.set_title('Cumulative equity (simple)')\n",
    "ax.grid(True)\n",
    "plt.show()\n",
    "\n",
    "print('Final equity:', float(test['equity'].iloc[-1]))\n",
    "print('Mean pnl (bp):', 1e4*test['pnl'].mean())"
   ]
  },
  {
   "cell_type": "markdown",
   "metadata": {},
   "source": [
    "### Next steps\n",
    "- Try different thresholds / models (e.g., gradient boosting).\n",
    "- Add RSS/Reddit aggregates via `scripts/build_training_matrix.py`.\n",
    "- Use walk-forward evaluation (multiple windows) and include transaction costs."
   ]
  }
 ],
 "metadata": {
  "kernelspec": {
   "display_name": "Python 3",
   "language": "python",
   "name": "python3"
  },
  "language_info": {
   "name": "python",
   "version": "3.11"
  }
 },
 "nbformat": 4,
 "nbformat_minor": 5
}

